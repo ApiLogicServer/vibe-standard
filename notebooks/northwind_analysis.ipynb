{
 "cells": [
  {
   "cell_type": "markdown",
   "id": "42a628c7",
   "metadata": {},
   "source": [
    "# Northwind Database Analysis\n",
    "\n",
    "This notebook provides comprehensive analysis of the Northwind sample database, including exploratory data analysis, sales trends, customer segmentation, and predictive modeling.\n",
    "\n",
    "## Table of Contents\n",
    "1. Import Required Libraries\n",
    "2. Load and Explore Dataset\n",
    "3. Data Preprocessing\n",
    "4. Feature Engineering\n",
    "5. Model Selection and Training\n",
    "6. Model Evaluation\n",
    "7. Hyperparameter Tuning\n",
    "8. Save and Load Model"
   ]
  },
  {
   "cell_type": "markdown",
   "id": "83a32401",
   "metadata": {},
   "source": [
    "## 1. Import Required Libraries\n",
    "\n",
    "Import essential libraries for data manipulation, visualization, and machine learning analysis."
   ]
  },
  {
   "cell_type": "code",
   "execution_count": null,
   "id": "f65f8c83",
   "metadata": {},
   "outputs": [],
   "source": [
    "# Data manipulation and analysis\n",
    "import pandas as pd\n",
    "import numpy as np\n",
    "import sqlite3\n",
    "from datetime import datetime\n",
    "\n",
    "# Visualization libraries\n",
    "import matplotlib.pyplot as plt\n",
    "import seaborn as sns\n",
    "import plotly.express as px\n",
    "import plotly.graph_objects as go\n",
    "from plotly.subplots import make_subplots\n",
    "\n",
    "# Machine learning libraries\n",
    "from sklearn.model_selection import train_test_split, GridSearchCV\n",
    "from sklearn.preprocessing import StandardScaler, LabelEncoder\n",
    "from sklearn.ensemble import RandomForestRegressor, RandomForestClassifier\n",
    "from sklearn.linear_model import LinearRegression\n",
    "from sklearn.metrics import mean_squared_error, r2_score, classification_report\n",
    "import joblib\n",
    "\n",
    "# Set plotting style\n",
    "plt.style.use('seaborn-v0_8')\n",
    "sns.set_palette(\"husl\")\n",
    "\n",
    "# Configure pandas display options\n",
    "pd.set_option('display.max_columns', None)\n",
    "pd.set_option('display.width', 1000)\n",
    "\n",
    "print(\"All libraries imported successfully!\")"
   ]
  },
  {
   "cell_type": "markdown",
   "id": "910b08fa",
   "metadata": {},
   "source": [
    "## 2. Load and Explore Dataset\n",
    "\n",
    "Connect to the Northwind SQLite database and load the data into pandas DataFrames for analysis."
   ]
  },
  {
   "cell_type": "code",
   "execution_count": null,
   "id": "7c17a18f",
   "metadata": {},
   "outputs": [],
   "source": [
    "# Connect to the Northwind database\n",
    "db_path = '../data/nw.sqlite'\n",
    "conn = sqlite3.connect(db_path)\n",
    "\n",
    "# Load all tables into DataFrames\n",
    "tables = {\n",
    "    'customers': pd.read_sql_query(\"SELECT * FROM Customers\", conn),\n",
    "    'orders': pd.read_sql_query(\"SELECT * FROM Orders\", conn),\n",
    "    'order_details': pd.read_sql_query(\"SELECT * FROM OrderDetails\", conn),\n",
    "    'products': pd.read_sql_query(\"SELECT * FROM Products\", conn),\n",
    "    'categories': pd.read_sql_query(\"SELECT * FROM Categories\", conn),\n",
    "    'suppliers': pd.read_sql_query(\"SELECT * FROM Suppliers\", conn),\n",
    "    'employees': pd.read_sql_query(\"SELECT * FROM Employees\", conn),\n",
    "    'shippers': pd.read_sql_query(\"SELECT * FROM Shippers\", conn)\n",
    "}\n",
    "\n",
    "print(\"Database tables loaded successfully!\")\n",
    "print(f\"Tables available: {list(tables.keys())}\")\n",
    "\n",
    "# Display basic information about each table\n",
    "for table_name, df in tables.items():\n",
    "    print(f\"\\n{table_name.upper()} - Shape: {df.shape}\")\n",
    "    print(f\"Columns: {list(df.columns)}\")\n",
    "    \n",
    "conn.close()"
   ]
  }
 ],
 "metadata": {
  "language_info": {
   "name": "python"
  }
 },
 "nbformat": 4,
 "nbformat_minor": 5
}
